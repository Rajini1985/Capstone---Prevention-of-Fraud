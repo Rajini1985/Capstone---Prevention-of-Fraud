{
 "cells": [
  {
   "cell_type": "code",
   "execution_count": 1,
   "id": "8e2be453",
   "metadata": {},
   "outputs": [],
   "source": [
    "#Importing libraries"
   ]
  },
  {
   "cell_type": "code",
   "execution_count": 2,
   "id": "b268fdc7",
   "metadata": {},
   "outputs": [],
   "source": [
    "import numpy as np\n",
    "import pandas as pd\n",
    "import matplotlib.pyplot as plt\n",
    "import seaborn as sns"
   ]
  },
  {
   "cell_type": "code",
   "execution_count": 3,
   "id": "68585ec1",
   "metadata": {},
   "outputs": [],
   "source": [
    "#Loading dataset"
   ]
  },
  {
   "cell_type": "code",
   "execution_count": 4,
   "id": "d3096f05",
   "metadata": {},
   "outputs": [],
   "source": [
    "mydata=pd.read_csv(\"Fraud.csv\")"
   ]
  },
  {
   "cell_type": "code",
   "execution_count": 5,
   "id": "c9da42aa",
   "metadata": {},
   "outputs": [],
   "source": [
    "#Data analysis"
   ]
  },
  {
   "cell_type": "code",
   "execution_count": 6,
   "id": "1284e6db",
   "metadata": {},
   "outputs": [],
   "source": [
    "#Displays headings of the dataset"
   ]
  },
  {
   "cell_type": "code",
   "execution_count": 7,
   "id": "e8f9632b",
   "metadata": {},
   "outputs": [
    {
     "data": {
      "text/html": [
       "<div>\n",
       "<style scoped>\n",
       "    .dataframe tbody tr th:only-of-type {\n",
       "        vertical-align: middle;\n",
       "    }\n",
       "\n",
       "    .dataframe tbody tr th {\n",
       "        vertical-align: top;\n",
       "    }\n",
       "\n",
       "    .dataframe thead th {\n",
       "        text-align: right;\n",
       "    }\n",
       "</style>\n",
       "<table border=\"1\" class=\"dataframe\">\n",
       "  <thead>\n",
       "    <tr style=\"text-align: right;\">\n",
       "      <th></th>\n",
       "      <th>step</th>\n",
       "      <th>type</th>\n",
       "      <th>amount</th>\n",
       "      <th>nameOrig</th>\n",
       "      <th>oldbalanceOrg</th>\n",
       "      <th>newbalanceOrig</th>\n",
       "      <th>nameDest</th>\n",
       "      <th>oldbalanceDest</th>\n",
       "      <th>newbalanceDest</th>\n",
       "      <th>isFraud</th>\n",
       "      <th>isFlaggedFraud</th>\n",
       "    </tr>\n",
       "  </thead>\n",
       "  <tbody>\n",
       "    <tr>\n",
       "      <th>0</th>\n",
       "      <td>1</td>\n",
       "      <td>PAYMENT</td>\n",
       "      <td>9839.64</td>\n",
       "      <td>C1231006815</td>\n",
       "      <td>170136.0</td>\n",
       "      <td>160296.36</td>\n",
       "      <td>M1979787155</td>\n",
       "      <td>0.0</td>\n",
       "      <td>0.0</td>\n",
       "      <td>0</td>\n",
       "      <td>0</td>\n",
       "    </tr>\n",
       "    <tr>\n",
       "      <th>1</th>\n",
       "      <td>1</td>\n",
       "      <td>PAYMENT</td>\n",
       "      <td>1864.28</td>\n",
       "      <td>C1666544295</td>\n",
       "      <td>21249.0</td>\n",
       "      <td>19384.72</td>\n",
       "      <td>M2044282225</td>\n",
       "      <td>0.0</td>\n",
       "      <td>0.0</td>\n",
       "      <td>0</td>\n",
       "      <td>0</td>\n",
       "    </tr>\n",
       "    <tr>\n",
       "      <th>2</th>\n",
       "      <td>1</td>\n",
       "      <td>TRANSFER</td>\n",
       "      <td>181.00</td>\n",
       "      <td>C1305486145</td>\n",
       "      <td>181.0</td>\n",
       "      <td>0.00</td>\n",
       "      <td>C553264065</td>\n",
       "      <td>0.0</td>\n",
       "      <td>0.0</td>\n",
       "      <td>1</td>\n",
       "      <td>0</td>\n",
       "    </tr>\n",
       "    <tr>\n",
       "      <th>3</th>\n",
       "      <td>1</td>\n",
       "      <td>CASH_OUT</td>\n",
       "      <td>181.00</td>\n",
       "      <td>C840083671</td>\n",
       "      <td>181.0</td>\n",
       "      <td>0.00</td>\n",
       "      <td>C38997010</td>\n",
       "      <td>21182.0</td>\n",
       "      <td>0.0</td>\n",
       "      <td>1</td>\n",
       "      <td>0</td>\n",
       "    </tr>\n",
       "    <tr>\n",
       "      <th>4</th>\n",
       "      <td>1</td>\n",
       "      <td>PAYMENT</td>\n",
       "      <td>11668.14</td>\n",
       "      <td>C2048537720</td>\n",
       "      <td>41554.0</td>\n",
       "      <td>29885.86</td>\n",
       "      <td>M1230701703</td>\n",
       "      <td>0.0</td>\n",
       "      <td>0.0</td>\n",
       "      <td>0</td>\n",
       "      <td>0</td>\n",
       "    </tr>\n",
       "  </tbody>\n",
       "</table>\n",
       "</div>"
      ],
      "text/plain": [
       "   step      type    amount     nameOrig  oldbalanceOrg  newbalanceOrig  \\\n",
       "0     1   PAYMENT   9839.64  C1231006815       170136.0       160296.36   \n",
       "1     1   PAYMENT   1864.28  C1666544295        21249.0        19384.72   \n",
       "2     1  TRANSFER    181.00  C1305486145          181.0            0.00   \n",
       "3     1  CASH_OUT    181.00   C840083671          181.0            0.00   \n",
       "4     1   PAYMENT  11668.14  C2048537720        41554.0        29885.86   \n",
       "\n",
       "      nameDest  oldbalanceDest  newbalanceDest  isFraud  isFlaggedFraud  \n",
       "0  M1979787155             0.0             0.0        0               0  \n",
       "1  M2044282225             0.0             0.0        0               0  \n",
       "2   C553264065             0.0             0.0        1               0  \n",
       "3    C38997010         21182.0             0.0        1               0  \n",
       "4  M1230701703             0.0             0.0        0               0  "
      ]
     },
     "execution_count": 7,
     "metadata": {},
     "output_type": "execute_result"
    }
   ],
   "source": [
    "mydata.head()"
   ]
  },
  {
   "cell_type": "code",
   "execution_count": 8,
   "id": "9f0221db",
   "metadata": {},
   "outputs": [],
   "source": [
    "#Datatypes information"
   ]
  },
  {
   "cell_type": "code",
   "execution_count": 9,
   "id": "b73c28cb",
   "metadata": {},
   "outputs": [
    {
     "name": "stdout",
     "output_type": "stream",
     "text": [
      "<class 'pandas.core.frame.DataFrame'>\n",
      "RangeIndex: 6362620 entries, 0 to 6362619\n",
      "Data columns (total 11 columns):\n",
      " #   Column          Dtype  \n",
      "---  ------          -----  \n",
      " 0   step            int64  \n",
      " 1   type            object \n",
      " 2   amount          float64\n",
      " 3   nameOrig        object \n",
      " 4   oldbalanceOrg   float64\n",
      " 5   newbalanceOrig  float64\n",
      " 6   nameDest        object \n",
      " 7   oldbalanceDest  float64\n",
      " 8   newbalanceDest  float64\n",
      " 9   isFraud         int64  \n",
      " 10  isFlaggedFraud  int64  \n",
      "dtypes: float64(5), int64(3), object(3)\n",
      "memory usage: 534.0+ MB\n"
     ]
    }
   ],
   "source": [
    "mydata.info()"
   ]
  },
  {
   "cell_type": "code",
   "execution_count": 10,
   "id": "476a98dc",
   "metadata": {},
   "outputs": [],
   "source": [
    "#Displays the statistical data"
   ]
  },
  {
   "cell_type": "code",
   "execution_count": 11,
   "id": "5d2522bb",
   "metadata": {},
   "outputs": [
    {
     "data": {
      "text/html": [
       "<div>\n",
       "<style scoped>\n",
       "    .dataframe tbody tr th:only-of-type {\n",
       "        vertical-align: middle;\n",
       "    }\n",
       "\n",
       "    .dataframe tbody tr th {\n",
       "        vertical-align: top;\n",
       "    }\n",
       "\n",
       "    .dataframe thead th {\n",
       "        text-align: right;\n",
       "    }\n",
       "</style>\n",
       "<table border=\"1\" class=\"dataframe\">\n",
       "  <thead>\n",
       "    <tr style=\"text-align: right;\">\n",
       "      <th></th>\n",
       "      <th>step</th>\n",
       "      <th>amount</th>\n",
       "      <th>oldbalanceOrg</th>\n",
       "      <th>newbalanceOrig</th>\n",
       "      <th>oldbalanceDest</th>\n",
       "      <th>newbalanceDest</th>\n",
       "      <th>isFraud</th>\n",
       "      <th>isFlaggedFraud</th>\n",
       "    </tr>\n",
       "  </thead>\n",
       "  <tbody>\n",
       "    <tr>\n",
       "      <th>count</th>\n",
       "      <td>6.362620e+06</td>\n",
       "      <td>6.362620e+06</td>\n",
       "      <td>6.362620e+06</td>\n",
       "      <td>6.362620e+06</td>\n",
       "      <td>6.362620e+06</td>\n",
       "      <td>6.362620e+06</td>\n",
       "      <td>6.362620e+06</td>\n",
       "      <td>6.362620e+06</td>\n",
       "    </tr>\n",
       "    <tr>\n",
       "      <th>mean</th>\n",
       "      <td>2.433972e+02</td>\n",
       "      <td>1.798619e+05</td>\n",
       "      <td>8.338831e+05</td>\n",
       "      <td>8.551137e+05</td>\n",
       "      <td>1.100702e+06</td>\n",
       "      <td>1.224996e+06</td>\n",
       "      <td>1.290820e-03</td>\n",
       "      <td>2.514687e-06</td>\n",
       "    </tr>\n",
       "    <tr>\n",
       "      <th>std</th>\n",
       "      <td>1.423320e+02</td>\n",
       "      <td>6.038582e+05</td>\n",
       "      <td>2.888243e+06</td>\n",
       "      <td>2.924049e+06</td>\n",
       "      <td>3.399180e+06</td>\n",
       "      <td>3.674129e+06</td>\n",
       "      <td>3.590480e-02</td>\n",
       "      <td>1.585775e-03</td>\n",
       "    </tr>\n",
       "    <tr>\n",
       "      <th>min</th>\n",
       "      <td>1.000000e+00</td>\n",
       "      <td>0.000000e+00</td>\n",
       "      <td>0.000000e+00</td>\n",
       "      <td>0.000000e+00</td>\n",
       "      <td>0.000000e+00</td>\n",
       "      <td>0.000000e+00</td>\n",
       "      <td>0.000000e+00</td>\n",
       "      <td>0.000000e+00</td>\n",
       "    </tr>\n",
       "    <tr>\n",
       "      <th>25%</th>\n",
       "      <td>1.560000e+02</td>\n",
       "      <td>1.338957e+04</td>\n",
       "      <td>0.000000e+00</td>\n",
       "      <td>0.000000e+00</td>\n",
       "      <td>0.000000e+00</td>\n",
       "      <td>0.000000e+00</td>\n",
       "      <td>0.000000e+00</td>\n",
       "      <td>0.000000e+00</td>\n",
       "    </tr>\n",
       "    <tr>\n",
       "      <th>50%</th>\n",
       "      <td>2.390000e+02</td>\n",
       "      <td>7.487194e+04</td>\n",
       "      <td>1.420800e+04</td>\n",
       "      <td>0.000000e+00</td>\n",
       "      <td>1.327057e+05</td>\n",
       "      <td>2.146614e+05</td>\n",
       "      <td>0.000000e+00</td>\n",
       "      <td>0.000000e+00</td>\n",
       "    </tr>\n",
       "    <tr>\n",
       "      <th>75%</th>\n",
       "      <td>3.350000e+02</td>\n",
       "      <td>2.087215e+05</td>\n",
       "      <td>1.073152e+05</td>\n",
       "      <td>1.442584e+05</td>\n",
       "      <td>9.430367e+05</td>\n",
       "      <td>1.111909e+06</td>\n",
       "      <td>0.000000e+00</td>\n",
       "      <td>0.000000e+00</td>\n",
       "    </tr>\n",
       "    <tr>\n",
       "      <th>max</th>\n",
       "      <td>7.430000e+02</td>\n",
       "      <td>9.244552e+07</td>\n",
       "      <td>5.958504e+07</td>\n",
       "      <td>4.958504e+07</td>\n",
       "      <td>3.560159e+08</td>\n",
       "      <td>3.561793e+08</td>\n",
       "      <td>1.000000e+00</td>\n",
       "      <td>1.000000e+00</td>\n",
       "    </tr>\n",
       "  </tbody>\n",
       "</table>\n",
       "</div>"
      ],
      "text/plain": [
       "               step        amount  oldbalanceOrg  newbalanceOrig  \\\n",
       "count  6.362620e+06  6.362620e+06   6.362620e+06    6.362620e+06   \n",
       "mean   2.433972e+02  1.798619e+05   8.338831e+05    8.551137e+05   \n",
       "std    1.423320e+02  6.038582e+05   2.888243e+06    2.924049e+06   \n",
       "min    1.000000e+00  0.000000e+00   0.000000e+00    0.000000e+00   \n",
       "25%    1.560000e+02  1.338957e+04   0.000000e+00    0.000000e+00   \n",
       "50%    2.390000e+02  7.487194e+04   1.420800e+04    0.000000e+00   \n",
       "75%    3.350000e+02  2.087215e+05   1.073152e+05    1.442584e+05   \n",
       "max    7.430000e+02  9.244552e+07   5.958504e+07    4.958504e+07   \n",
       "\n",
       "       oldbalanceDest  newbalanceDest       isFraud  isFlaggedFraud  \n",
       "count    6.362620e+06    6.362620e+06  6.362620e+06    6.362620e+06  \n",
       "mean     1.100702e+06    1.224996e+06  1.290820e-03    2.514687e-06  \n",
       "std      3.399180e+06    3.674129e+06  3.590480e-02    1.585775e-03  \n",
       "min      0.000000e+00    0.000000e+00  0.000000e+00    0.000000e+00  \n",
       "25%      0.000000e+00    0.000000e+00  0.000000e+00    0.000000e+00  \n",
       "50%      1.327057e+05    2.146614e+05  0.000000e+00    0.000000e+00  \n",
       "75%      9.430367e+05    1.111909e+06  0.000000e+00    0.000000e+00  \n",
       "max      3.560159e+08    3.561793e+08  1.000000e+00    1.000000e+00  "
      ]
     },
     "execution_count": 11,
     "metadata": {},
     "output_type": "execute_result"
    }
   ],
   "source": [
    "mydata.describe()"
   ]
  },
  {
   "cell_type": "code",
   "execution_count": 12,
   "id": "89434c1a",
   "metadata": {},
   "outputs": [],
   "source": [
    "#Checking the null values of the dataset"
   ]
  },
  {
   "cell_type": "code",
   "execution_count": 13,
   "id": "f58c8300",
   "metadata": {},
   "outputs": [
    {
     "data": {
      "text/plain": [
       "step              0\n",
       "type              0\n",
       "amount            0\n",
       "nameOrig          0\n",
       "oldbalanceOrg     0\n",
       "newbalanceOrig    0\n",
       "nameDest          0\n",
       "oldbalanceDest    0\n",
       "newbalanceDest    0\n",
       "isFraud           0\n",
       "isFlaggedFraud    0\n",
       "dtype: int64"
      ]
     },
     "execution_count": 13,
     "metadata": {},
     "output_type": "execute_result"
    }
   ],
   "source": [
    "mydata.isnull().sum()"
   ]
  },
  {
   "cell_type": "code",
   "execution_count": 14,
   "id": "90ab3bcb",
   "metadata": {},
   "outputs": [],
   "source": [
    "#Convert the object datatypes to integer using label encoder"
   ]
  },
  {
   "cell_type": "code",
   "execution_count": 15,
   "id": "cfa0ecaa",
   "metadata": {},
   "outputs": [],
   "source": [
    "from sklearn.preprocessing import LabelEncoder"
   ]
  },
  {
   "cell_type": "code",
   "execution_count": 16,
   "id": "07ea3958",
   "metadata": {},
   "outputs": [],
   "source": [
    "LE = LabelEncoder()"
   ]
  },
  {
   "cell_type": "code",
   "execution_count": 17,
   "id": "e7c002dc",
   "metadata": {},
   "outputs": [],
   "source": [
    "mydata[\"type\"]=LE.fit_transform(mydata.type)\n",
    "mydata[\"nameOrig\"]=LE.fit_transform(mydata.nameOrig)\n",
    "mydata[\"nameDest\"]=LE.fit_transform(mydata.nameDest)"
   ]
  },
  {
   "cell_type": "code",
   "execution_count": 18,
   "id": "44391741",
   "metadata": {},
   "outputs": [],
   "source": [
    "#Check if all datatypes are converted as we have applied label encoder"
   ]
  },
  {
   "cell_type": "code",
   "execution_count": 19,
   "id": "cb6b2205",
   "metadata": {},
   "outputs": [
    {
     "name": "stdout",
     "output_type": "stream",
     "text": [
      "<class 'pandas.core.frame.DataFrame'>\n",
      "RangeIndex: 6362620 entries, 0 to 6362619\n",
      "Data columns (total 11 columns):\n",
      " #   Column          Dtype  \n",
      "---  ------          -----  \n",
      " 0   step            int64  \n",
      " 1   type            int32  \n",
      " 2   amount          float64\n",
      " 3   nameOrig        int32  \n",
      " 4   oldbalanceOrg   float64\n",
      " 5   newbalanceOrig  float64\n",
      " 6   nameDest        int32  \n",
      " 7   oldbalanceDest  float64\n",
      " 8   newbalanceDest  float64\n",
      " 9   isFraud         int64  \n",
      " 10  isFlaggedFraud  int64  \n",
      "dtypes: float64(5), int32(3), int64(3)\n",
      "memory usage: 461.2 MB\n"
     ]
    }
   ],
   "source": [
    "mydata.info()"
   ]
  },
  {
   "cell_type": "code",
   "execution_count": 20,
   "id": "731c53e2",
   "metadata": {},
   "outputs": [],
   "source": [
    "#Correlation of the variables"
   ]
  },
  {
   "cell_type": "code",
   "execution_count": 21,
   "id": "01782c24",
   "metadata": {},
   "outputs": [],
   "source": [
    "mydata_corr = mydata.corr()"
   ]
  },
  {
   "cell_type": "code",
   "execution_count": 22,
   "id": "3487d6ca",
   "metadata": {},
   "outputs": [
    {
     "data": {
      "text/html": [
       "<div>\n",
       "<style scoped>\n",
       "    .dataframe tbody tr th:only-of-type {\n",
       "        vertical-align: middle;\n",
       "    }\n",
       "\n",
       "    .dataframe tbody tr th {\n",
       "        vertical-align: top;\n",
       "    }\n",
       "\n",
       "    .dataframe thead th {\n",
       "        text-align: right;\n",
       "    }\n",
       "</style>\n",
       "<table border=\"1\" class=\"dataframe\">\n",
       "  <thead>\n",
       "    <tr style=\"text-align: right;\">\n",
       "      <th></th>\n",
       "      <th>step</th>\n",
       "      <th>type</th>\n",
       "      <th>amount</th>\n",
       "      <th>nameOrig</th>\n",
       "      <th>oldbalanceOrg</th>\n",
       "      <th>newbalanceOrig</th>\n",
       "      <th>nameDest</th>\n",
       "      <th>oldbalanceDest</th>\n",
       "      <th>newbalanceDest</th>\n",
       "      <th>isFraud</th>\n",
       "      <th>isFlaggedFraud</th>\n",
       "    </tr>\n",
       "  </thead>\n",
       "  <tbody>\n",
       "    <tr>\n",
       "      <th>step</th>\n",
       "      <td>1.000000</td>\n",
       "      <td>0.006635</td>\n",
       "      <td>0.022373</td>\n",
       "      <td>-0.000146</td>\n",
       "      <td>-0.010058</td>\n",
       "      <td>-0.010299</td>\n",
       "      <td>0.003767</td>\n",
       "      <td>0.027665</td>\n",
       "      <td>0.025888</td>\n",
       "      <td>0.031578</td>\n",
       "      <td>0.003277</td>\n",
       "    </tr>\n",
       "    <tr>\n",
       "      <th>type</th>\n",
       "      <td>0.006635</td>\n",
       "      <td>1.000000</td>\n",
       "      <td>0.088419</td>\n",
       "      <td>0.000213</td>\n",
       "      <td>-0.339760</td>\n",
       "      <td>-0.352758</td>\n",
       "      <td>0.584275</td>\n",
       "      <td>-0.104679</td>\n",
       "      <td>-0.059364</td>\n",
       "      <td>0.020833</td>\n",
       "      <td>0.002685</td>\n",
       "    </tr>\n",
       "    <tr>\n",
       "      <th>amount</th>\n",
       "      <td>0.022373</td>\n",
       "      <td>0.088419</td>\n",
       "      <td>1.000000</td>\n",
       "      <td>0.000124</td>\n",
       "      <td>-0.002762</td>\n",
       "      <td>-0.007861</td>\n",
       "      <td>-0.169150</td>\n",
       "      <td>0.294137</td>\n",
       "      <td>0.459304</td>\n",
       "      <td>0.076688</td>\n",
       "      <td>0.012295</td>\n",
       "    </tr>\n",
       "    <tr>\n",
       "      <th>nameOrig</th>\n",
       "      <td>-0.000146</td>\n",
       "      <td>0.000213</td>\n",
       "      <td>0.000124</td>\n",
       "      <td>1.000000</td>\n",
       "      <td>-0.000648</td>\n",
       "      <td>-0.000675</td>\n",
       "      <td>-0.000256</td>\n",
       "      <td>0.000245</td>\n",
       "      <td>0.000255</td>\n",
       "      <td>-0.000464</td>\n",
       "      <td>0.000667</td>\n",
       "    </tr>\n",
       "    <tr>\n",
       "      <th>oldbalanceOrg</th>\n",
       "      <td>-0.010058</td>\n",
       "      <td>-0.339760</td>\n",
       "      <td>-0.002762</td>\n",
       "      <td>-0.000648</td>\n",
       "      <td>1.000000</td>\n",
       "      <td>0.998803</td>\n",
       "      <td>-0.162688</td>\n",
       "      <td>0.066243</td>\n",
       "      <td>0.042029</td>\n",
       "      <td>0.010154</td>\n",
       "      <td>0.003835</td>\n",
       "    </tr>\n",
       "    <tr>\n",
       "      <th>newbalanceOrig</th>\n",
       "      <td>-0.010299</td>\n",
       "      <td>-0.352758</td>\n",
       "      <td>-0.007861</td>\n",
       "      <td>-0.000675</td>\n",
       "      <td>0.998803</td>\n",
       "      <td>1.000000</td>\n",
       "      <td>-0.166489</td>\n",
       "      <td>0.067812</td>\n",
       "      <td>0.041837</td>\n",
       "      <td>-0.008148</td>\n",
       "      <td>0.003776</td>\n",
       "    </tr>\n",
       "    <tr>\n",
       "      <th>nameDest</th>\n",
       "      <td>0.003767</td>\n",
       "      <td>0.584275</td>\n",
       "      <td>-0.169150</td>\n",
       "      <td>-0.000256</td>\n",
       "      <td>-0.162688</td>\n",
       "      <td>-0.166489</td>\n",
       "      <td>1.000000</td>\n",
       "      <td>-0.198119</td>\n",
       "      <td>-0.203992</td>\n",
       "      <td>-0.021963</td>\n",
       "      <td>-0.001122</td>\n",
       "    </tr>\n",
       "    <tr>\n",
       "      <th>oldbalanceDest</th>\n",
       "      <td>0.027665</td>\n",
       "      <td>-0.104679</td>\n",
       "      <td>0.294137</td>\n",
       "      <td>0.000245</td>\n",
       "      <td>0.066243</td>\n",
       "      <td>0.067812</td>\n",
       "      <td>-0.198119</td>\n",
       "      <td>1.000000</td>\n",
       "      <td>0.976569</td>\n",
       "      <td>-0.005885</td>\n",
       "      <td>-0.000513</td>\n",
       "    </tr>\n",
       "    <tr>\n",
       "      <th>newbalanceDest</th>\n",
       "      <td>0.025888</td>\n",
       "      <td>-0.059364</td>\n",
       "      <td>0.459304</td>\n",
       "      <td>0.000255</td>\n",
       "      <td>0.042029</td>\n",
       "      <td>0.041837</td>\n",
       "      <td>-0.203992</td>\n",
       "      <td>0.976569</td>\n",
       "      <td>1.000000</td>\n",
       "      <td>0.000535</td>\n",
       "      <td>-0.000529</td>\n",
       "    </tr>\n",
       "    <tr>\n",
       "      <th>isFraud</th>\n",
       "      <td>0.031578</td>\n",
       "      <td>0.020833</td>\n",
       "      <td>0.076688</td>\n",
       "      <td>-0.000464</td>\n",
       "      <td>0.010154</td>\n",
       "      <td>-0.008148</td>\n",
       "      <td>-0.021963</td>\n",
       "      <td>-0.005885</td>\n",
       "      <td>0.000535</td>\n",
       "      <td>1.000000</td>\n",
       "      <td>0.044109</td>\n",
       "    </tr>\n",
       "    <tr>\n",
       "      <th>isFlaggedFraud</th>\n",
       "      <td>0.003277</td>\n",
       "      <td>0.002685</td>\n",
       "      <td>0.012295</td>\n",
       "      <td>0.000667</td>\n",
       "      <td>0.003835</td>\n",
       "      <td>0.003776</td>\n",
       "      <td>-0.001122</td>\n",
       "      <td>-0.000513</td>\n",
       "      <td>-0.000529</td>\n",
       "      <td>0.044109</td>\n",
       "      <td>1.000000</td>\n",
       "    </tr>\n",
       "  </tbody>\n",
       "</table>\n",
       "</div>"
      ],
      "text/plain": [
       "                    step      type    amount  nameOrig  oldbalanceOrg  \\\n",
       "step            1.000000  0.006635  0.022373 -0.000146      -0.010058   \n",
       "type            0.006635  1.000000  0.088419  0.000213      -0.339760   \n",
       "amount          0.022373  0.088419  1.000000  0.000124      -0.002762   \n",
       "nameOrig       -0.000146  0.000213  0.000124  1.000000      -0.000648   \n",
       "oldbalanceOrg  -0.010058 -0.339760 -0.002762 -0.000648       1.000000   \n",
       "newbalanceOrig -0.010299 -0.352758 -0.007861 -0.000675       0.998803   \n",
       "nameDest        0.003767  0.584275 -0.169150 -0.000256      -0.162688   \n",
       "oldbalanceDest  0.027665 -0.104679  0.294137  0.000245       0.066243   \n",
       "newbalanceDest  0.025888 -0.059364  0.459304  0.000255       0.042029   \n",
       "isFraud         0.031578  0.020833  0.076688 -0.000464       0.010154   \n",
       "isFlaggedFraud  0.003277  0.002685  0.012295  0.000667       0.003835   \n",
       "\n",
       "                newbalanceOrig  nameDest  oldbalanceDest  newbalanceDest  \\\n",
       "step                 -0.010299  0.003767        0.027665        0.025888   \n",
       "type                 -0.352758  0.584275       -0.104679       -0.059364   \n",
       "amount               -0.007861 -0.169150        0.294137        0.459304   \n",
       "nameOrig             -0.000675 -0.000256        0.000245        0.000255   \n",
       "oldbalanceOrg         0.998803 -0.162688        0.066243        0.042029   \n",
       "newbalanceOrig        1.000000 -0.166489        0.067812        0.041837   \n",
       "nameDest             -0.166489  1.000000       -0.198119       -0.203992   \n",
       "oldbalanceDest        0.067812 -0.198119        1.000000        0.976569   \n",
       "newbalanceDest        0.041837 -0.203992        0.976569        1.000000   \n",
       "isFraud              -0.008148 -0.021963       -0.005885        0.000535   \n",
       "isFlaggedFraud        0.003776 -0.001122       -0.000513       -0.000529   \n",
       "\n",
       "                 isFraud  isFlaggedFraud  \n",
       "step            0.031578        0.003277  \n",
       "type            0.020833        0.002685  \n",
       "amount          0.076688        0.012295  \n",
       "nameOrig       -0.000464        0.000667  \n",
       "oldbalanceOrg   0.010154        0.003835  \n",
       "newbalanceOrig -0.008148        0.003776  \n",
       "nameDest       -0.021963       -0.001122  \n",
       "oldbalanceDest -0.005885       -0.000513  \n",
       "newbalanceDest  0.000535       -0.000529  \n",
       "isFraud         1.000000        0.044109  \n",
       "isFlaggedFraud  0.044109        1.000000  "
      ]
     },
     "execution_count": 22,
     "metadata": {},
     "output_type": "execute_result"
    }
   ],
   "source": [
    "mydata_corr"
   ]
  },
  {
   "cell_type": "code",
   "execution_count": 23,
   "id": "e0785cd6",
   "metadata": {},
   "outputs": [],
   "source": [
    "#Data Visualization"
   ]
  },
  {
   "cell_type": "code",
   "execution_count": 24,
   "id": "be928282",
   "metadata": {},
   "outputs": [],
   "source": [
    "#Heatmap"
   ]
  },
  {
   "cell_type": "code",
   "execution_count": 25,
   "id": "503c14d9",
   "metadata": {
    "scrolled": true
   },
   "outputs": [
    {
     "data": {
      "text/plain": [
       "<AxesSubplot:>"
      ]
     },
     "execution_count": 25,
     "metadata": {},
     "output_type": "execute_result"
    },
    {
     "data": {
      "image/png": "[encoded data removed]",
      "text/plain": [
       "<Figure size 1080x576 with 2 Axes>"
      ]
     },
     "metadata": {
      "needs_background": "light"
     },
     "output_type": "display_data"
    }
   ],
   "source": [
    "plt.figure(figsize=(15,8))\n",
    "sns.heatmap(data=mydata_corr,annot=False,cmap='viridis')"
   ]
  },
  {
   "cell_type": "code",
   "execution_count": 26,
   "id": "69f3b230",
   "metadata": {},
   "outputs": [],
   "source": [
    "#Histogram"
   ]
  },
  {
   "cell_type": "code",
   "execution_count": 27,
   "id": "0faddfab",
   "metadata": {},
   "outputs": [
    {
     "data": {
      "image/png": "[encoded data removed]",
      "text/plain": [
       "<Figure size 1800x720 with 12 Axes>"
      ]
     },
     "metadata": {
      "needs_background": "light"
     },
     "output_type": "display_data"
    }
   ],
   "source": [
    "mydata.hist(figsize=(25,10),edgecolor='k')\n",
    "plt.tight_layout()\n",
    "plt.show(abs)"
   ]
  },
  {
   "cell_type": "code",
   "execution_count": 28,
   "id": "aab34e5f",
   "metadata": {},
   "outputs": [],
   "source": [
    "#Violin Plot"
   ]
  },
  {
   "cell_type": "code",
   "execution_count": 29,
   "id": "cdbcb5d3",
   "metadata": {},
   "outputs": [
    {
     "data": {
      "text/plain": [
       "<AxesSubplot:xlabel='isFraud', ylabel='amount'>"
      ]
     },
     "execution_count": 29,
     "metadata": {},
     "output_type": "execute_result"
    },
    {
     "data": {
      "image/png": "[encoded data removed]",
      "text/plain": [
       "<Figure size 432x288 with 1 Axes>"
      ]
     },
     "metadata": {},
     "output_type": "display_data"
    }
   ],
   "source": [
    "sns.set(style='darkgrid')\n",
    "sns.violinplot(x='isFraud',y='amount',data=mydata.sample(100000),palette='bright')"
   ]
  },
  {
   "cell_type": "code",
   "execution_count": 30,
   "id": "f6c7bf63",
   "metadata": {},
   "outputs": [],
   "source": [
    "#Joint plot"
   ]
  },
  {
   "cell_type": "code",
   "execution_count": 31,
   "id": "9a9de138",
   "metadata": {},
   "outputs": [
    {
     "data": {
      "text/plain": [
       "<seaborn.axisgrid.JointGrid at 0x16dab811e20>"
      ]
     },
     "execution_count": 31,
     "metadata": {},
     "output_type": "execute_result"
    },
    {
     "data": {
      "image/png": "[encoded data removed]",
      "text/plain": [
       "<Figure size 432x432 with 3 Axes>"
      ]
     },
     "metadata": {},
     "output_type": "display_data"
    }
   ],
   "source": [
    "sns.jointplot(x='isFlaggedFraud',y='amount',data=mydata.sample(100000),palette='bright')"
   ]
  },
  {
   "cell_type": "code",
   "execution_count": 32,
   "id": "b94b0ac2",
   "metadata": {},
   "outputs": [],
   "source": [
    "#Assigning independent and depdendent variable"
   ]
  },
  {
   "cell_type": "code",
   "execution_count": 33,
   "id": "08af38ca",
   "metadata": {},
   "outputs": [],
   "source": [
    "x_ind=mydata.drop(\"amount\",axis=1)\n",
    "y_dep=mydata.amount"
   ]
  },
  {
   "cell_type": "code",
   "execution_count": 34,
   "id": "bfad2ea8",
   "metadata": {},
   "outputs": [],
   "source": [
    "#Building OLS model"
   ]
  },
  {
   "cell_type": "code",
   "execution_count": 35,
   "id": "18b314b9",
   "metadata": {},
   "outputs": [],
   "source": [
    "import statsmodels.api as sm"
   ]
  },
  {
   "cell_type": "code",
   "execution_count": 36,
   "id": "d91d91b3",
   "metadata": {},
   "outputs": [],
   "source": [
    "model=sm.OLS(y_dep,x_ind)"
   ]
  },
  {
   "cell_type": "code",
   "execution_count": 37,
   "id": "31e70467",
   "metadata": {},
   "outputs": [],
   "source": [
    "my_fit=model.fit()"
   ]
  },
  {
   "cell_type": "code",
   "execution_count": 38,
   "id": "0e04a6fb",
   "metadata": {},
   "outputs": [
    {
     "data": {
      "text/html": [
       "<table class=\"simpletable\">\n",
       "<caption>OLS Regression Results</caption>\n",
       "<tr>\n",
       "  <th>Dep. Variable:</th>         <td>amount</td>      <th>  R-squared (uncentered):</th>       <td>   0.759</td>  \n",
       "</tr>\n",
       "<tr>\n",
       "  <th>Model:</th>                   <td>OLS</td>       <th>  Adj. R-squared (uncentered):</th>  <td>   0.759</td>  \n",
       "</tr>\n",
       "<tr>\n",
       "  <th>Method:</th>             <td>Least Squares</td>  <th>  F-statistic:       </th>           <td>2.004e+06</td> \n",
       "</tr>\n",
       "<tr>\n",
       "  <th>Date:</th>             <td>Tue, 28 Sep 2021</td> <th>  Prob (F-statistic):</th>            <td>  0.00</td>   \n",
       "</tr>\n",
       "<tr>\n",
       "  <th>Time:</th>                 <td>23:29:53</td>     <th>  Log-Likelihood:    </th>          <td>-8.9465e+07</td>\n",
       "</tr>\n",
       "<tr>\n",
       "  <th>No. Observations:</th>      <td>6362620</td>     <th>  AIC:               </th>           <td>1.789e+08</td> \n",
       "</tr>\n",
       "<tr>\n",
       "  <th>Df Residuals:</th>          <td>6362610</td>     <th>  BIC:               </th>           <td>1.789e+08</td> \n",
       "</tr>\n",
       "<tr>\n",
       "  <th>Df Model:</th>              <td>    10</td>      <th>                     </th>               <td> </td>     \n",
       "</tr>\n",
       "<tr>\n",
       "  <th>Covariance Type:</th>      <td>nonrobust</td>    <th>                     </th>               <td> </td>     \n",
       "</tr>\n",
       "</table>\n",
       "<table class=\"simpletable\">\n",
       "<tr>\n",
       "         <td></td>           <th>coef</th>     <th>std err</th>      <th>t</th>      <th>P>|t|</th>  <th>[0.025</th>    <th>0.975]</th>  \n",
       "</tr>\n",
       "<tr>\n",
       "  <th>step</th>           <td>  165.3594</td> <td>    0.724</td> <td>  228.494</td> <td> 0.000</td> <td>  163.941</td> <td>  166.778</td>\n",
       "</tr>\n",
       "<tr>\n",
       "  <th>type</th>           <td> 2.637e+04</td> <td>  118.323</td> <td>  222.906</td> <td> 0.000</td> <td> 2.61e+04</td> <td> 2.66e+04</td>\n",
       "</tr>\n",
       "<tr>\n",
       "  <th>nameOrig</th>       <td>    0.0072</td> <td> 5.55e-05</td> <td>  129.828</td> <td> 0.000</td> <td>    0.007</td> <td>    0.007</td>\n",
       "</tr>\n",
       "<tr>\n",
       "  <th>oldbalanceOrg</th>  <td>   -0.2282</td> <td>    0.001</td> <td> -233.979</td> <td> 0.000</td> <td>   -0.230</td> <td>   -0.226</td>\n",
       "</tr>\n",
       "<tr>\n",
       "  <th>newbalanceOrig</th> <td>    0.2409</td> <td>    0.001</td> <td>  249.145</td> <td> 0.000</td> <td>    0.239</td> <td>    0.243</td>\n",
       "</tr>\n",
       "<tr>\n",
       "  <th>nameDest</th>       <td>   -0.0629</td> <td>    0.000</td> <td> -300.940</td> <td> 0.000</td> <td>   -0.063</td> <td>   -0.062</td>\n",
       "</tr>\n",
       "<tr>\n",
       "  <th>oldbalanceDest</th> <td>   -0.5951</td> <td>    0.000</td> <td>-3394.808</td> <td> 0.000</td> <td>   -0.595</td> <td>   -0.595</td>\n",
       "</tr>\n",
       "<tr>\n",
       "  <th>newbalanceDest</th> <td>    0.6112</td> <td>    0.000</td> <td> 3753.823</td> <td> 0.000</td> <td>    0.611</td> <td>    0.612</td>\n",
       "</tr>\n",
       "<tr>\n",
       "  <th>isFraud</th>        <td> 1.202e+06</td> <td> 3701.031</td> <td>  324.779</td> <td> 0.000</td> <td> 1.19e+06</td> <td> 1.21e+06</td>\n",
       "</tr>\n",
       "<tr>\n",
       "  <th>isFlaggedFraud</th> <td> 3.351e+06</td> <td> 7.74e+04</td> <td>   43.288</td> <td> 0.000</td> <td>  3.2e+06</td> <td>  3.5e+06</td>\n",
       "</tr>\n",
       "</table>\n",
       "<table class=\"simpletable\">\n",
       "<tr>\n",
       "  <th>Omnibus:</th>       <td>10112366.792</td> <th>  Durbin-Watson:     </th>     <td>   1.535</td>    \n",
       "</tr>\n",
       "<tr>\n",
       "  <th>Prob(Omnibus):</th>    <td> 0.000</td>    <th>  Jarque-Bera (JB):  </th> <td>847548039662.189</td>\n",
       "</tr>\n",
       "<tr>\n",
       "  <th>Skew:</th>             <td>-8.658</td>    <th>  Prob(JB):          </th>     <td>    0.00</td>    \n",
       "</tr>\n",
       "<tr>\n",
       "  <th>Kurtosis:</th>        <td>1790.926</td>   <th>  Cond. No.          </th>     <td>3.50e+09</td>    \n",
       "</tr>\n",
       "</table><br/><br/>Notes:<br/>[1] R² is computed without centering (uncentered) since the model does not contain a constant.<br/>[2] Standard Errors assume that the covariance matrix of the errors is correctly specified.<br/>[3] The condition number is large, 3.5e+09. This might indicate that there are<br/>strong multicollinearity or other numerical problems."
      ],
      "text/plain": [
       "<class 'statsmodels.iolib.summary.Summary'>\n",
       "\"\"\"\n",
       "                                 OLS Regression Results                                \n",
       "=======================================================================================\n",
       "Dep. Variable:                 amount   R-squared (uncentered):                   0.759\n",
       "Model:                            OLS   Adj. R-squared (uncentered):              0.759\n",
       "Method:                 Least Squares   F-statistic:                          2.004e+06\n",
       "Date:                Tue, 28 Sep 2021   Prob (F-statistic):                        0.00\n",
       "Time:                        23:29:53   Log-Likelihood:                     -8.9465e+07\n",
       "No. Observations:             6362620   AIC:                                  1.789e+08\n",
       "Df Residuals:                 6362610   BIC:                                  1.789e+08\n",
       "Df Model:                          10                                                  \n",
       "Covariance Type:            nonrobust                                                  \n",
       "==================================================================================\n",
       "                     coef    std err          t      P>|t|      [0.025      0.975]\n",
       "----------------------------------------------------------------------------------\n",
       "step             165.3594      0.724    228.494      0.000     163.941     166.778\n",
       "type            2.637e+04    118.323    222.906      0.000    2.61e+04    2.66e+04\n",
       "nameOrig           0.0072   5.55e-05    129.828      0.000       0.007       0.007\n",
       "oldbalanceOrg     -0.2282      0.001   -233.979      0.000      -0.230      -0.226\n",
       "newbalanceOrig     0.2409      0.001    249.145      0.000       0.239       0.243\n",
       "nameDest          -0.0629      0.000   -300.940      0.000      -0.063      -0.062\n",
       "oldbalanceDest    -0.5951      0.000  -3394.808      0.000      -0.595      -0.595\n",
       "newbalanceDest     0.6112      0.000   3753.823      0.000       0.611       0.612\n",
       "isFraud         1.202e+06   3701.031    324.779      0.000    1.19e+06    1.21e+06\n",
       "isFlaggedFraud  3.351e+06   7.74e+04     43.288      0.000     3.2e+06     3.5e+06\n",
       "==============================================================================\n",
       "Omnibus:                 10112366.792   Durbin-Watson:                   1.535\n",
       "Prob(Omnibus):                  0.000   Jarque-Bera (JB):     847548039662.189\n",
       "Skew:                          -8.658   Prob(JB):                         0.00\n",
       "Kurtosis:                    1790.926   Cond. No.                     3.50e+09\n",
       "==============================================================================\n",
       "\n",
       "Notes:\n",
       "[1] R² is computed without centering (uncentered) since the model does not contain a constant.\n",
       "[2] Standard Errors assume that the covariance matrix of the errors is correctly specified.\n",
       "[3] The condition number is large, 3.5e+09. This might indicate that there are\n",
       "strong multicollinearity or other numerical problems.\n",
       "\"\"\""
      ]
     },
     "execution_count": 38,
     "metadata": {},
     "output_type": "execute_result"
    }
   ],
   "source": [
    "my_fit.summary()"
   ]
  },
  {
   "cell_type": "code",
   "execution_count": 39,
   "id": "c6fb050a",
   "metadata": {},
   "outputs": [],
   "source": [
    "#Building regression model"
   ]
  },
  {
   "cell_type": "code",
   "execution_count": 40,
   "id": "008128b4",
   "metadata": {},
   "outputs": [],
   "source": [
    "from sklearn.model_selection import train_test_split\n",
    "x_train,x_test,y_train,y_test=train_test_split(x_ind,y_dep,test_size=0.8,random_state=2)"
   ]
  },
  {
   "cell_type": "code",
   "execution_count": 41,
   "id": "39778464",
   "metadata": {},
   "outputs": [],
   "source": [
    "from sklearn import linear_model\n",
    "from sklearn.linear_model import LinearRegression"
   ]
  },
  {
   "cell_type": "code",
   "execution_count": 42,
   "id": "707da64e",
   "metadata": {},
   "outputs": [],
   "source": [
    "model=LinearRegression()"
   ]
  },
  {
   "cell_type": "code",
   "execution_count": 43,
   "id": "6ac64391",
   "metadata": {},
   "outputs": [
    {
     "data": {
      "text/plain": [
       "LinearRegression()"
      ]
     },
     "execution_count": 43,
     "metadata": {},
     "output_type": "execute_result"
    }
   ],
   "source": [
    "model.fit(x_train,y_train)"
   ]
  },
  {
   "cell_type": "code",
   "execution_count": 44,
   "id": "bf084366",
   "metadata": {},
   "outputs": [],
   "source": [
    "y_pred = model.predict(x_test)"
   ]
  },
  {
   "cell_type": "code",
   "execution_count": 45,
   "id": "7c6b50e3",
   "metadata": {
    "scrolled": true
   },
   "outputs": [
    {
     "data": {
      "text/plain": [
       "0.7311829891766826"
      ]
     },
     "execution_count": 45,
     "metadata": {},
     "output_type": "execute_result"
    }
   ],
   "source": [
    "model.score(x_train, y_train)"
   ]
  },
  {
   "cell_type": "code",
   "execution_count": 46,
   "id": "af513f02",
   "metadata": {},
   "outputs": [],
   "source": [
    "#Accuracy scode is 73% as per the Linear Regression"
   ]
  },
  {
   "cell_type": "code",
   "execution_count": 47,
   "id": "cfe1940b",
   "metadata": {},
   "outputs": [],
   "source": [
    "# Comparison of actual and  machine predicted weights"
   ]
  },
  {
   "cell_type": "code",
   "execution_count": 48,
   "id": "0f658d2e",
   "metadata": {},
   "outputs": [
    {
     "data": {
      "text/html": [
       "<div>\n",
       "<style scoped>\n",
       "    .dataframe tbody tr th:only-of-type {\n",
       "        vertical-align: middle;\n",
       "    }\n",
       "\n",
       "    .dataframe tbody tr th {\n",
       "        vertical-align: top;\n",
       "    }\n",
       "\n",
       "    .dataframe thead th {\n",
       "        text-align: right;\n",
       "    }\n",
       "</style>\n",
       "<table border=\"1\" class=\"dataframe\">\n",
       "  <thead>\n",
       "    <tr style=\"text-align: right;\">\n",
       "      <th></th>\n",
       "      <th>Actual</th>\n",
       "      <th>Machine_predicted</th>\n",
       "    </tr>\n",
       "  </thead>\n",
       "  <tbody>\n",
       "    <tr>\n",
       "      <th>4801897</th>\n",
       "      <td>10730.14</td>\n",
       "      <td>156580.930568</td>\n",
       "    </tr>\n",
       "    <tr>\n",
       "      <th>2779475</th>\n",
       "      <td>185181.59</td>\n",
       "      <td>97683.545903</td>\n",
       "    </tr>\n",
       "    <tr>\n",
       "      <th>784465</th>\n",
       "      <td>138902.42</td>\n",
       "      <td>147243.373052</td>\n",
       "    </tr>\n",
       "    <tr>\n",
       "      <th>5635648</th>\n",
       "      <td>30468.30</td>\n",
       "      <td>53820.392423</td>\n",
       "    </tr>\n",
       "    <tr>\n",
       "      <th>301298</th>\n",
       "      <td>14524.67</td>\n",
       "      <td>-590.618971</td>\n",
       "    </tr>\n",
       "    <tr>\n",
       "      <th>...</th>\n",
       "      <td>...</td>\n",
       "      <td>...</td>\n",
       "    </tr>\n",
       "    <tr>\n",
       "      <th>5288163</th>\n",
       "      <td>56143.31</td>\n",
       "      <td>181906.715187</td>\n",
       "    </tr>\n",
       "    <tr>\n",
       "      <th>33468</th>\n",
       "      <td>995457.85</td>\n",
       "      <td>121582.699814</td>\n",
       "    </tr>\n",
       "    <tr>\n",
       "      <th>3633581</th>\n",
       "      <td>155294.36</td>\n",
       "      <td>121311.901660</td>\n",
       "    </tr>\n",
       "    <tr>\n",
       "      <th>244471</th>\n",
       "      <td>179258.40</td>\n",
       "      <td>302020.388731</td>\n",
       "    </tr>\n",
       "    <tr>\n",
       "      <th>5254488</th>\n",
       "      <td>9433.14</td>\n",
       "      <td>70772.016926</td>\n",
       "    </tr>\n",
       "  </tbody>\n",
       "</table>\n",
       "<p>5090096 rows × 2 columns</p>\n",
       "</div>"
      ],
      "text/plain": [
       "            Actual  Machine_predicted\n",
       "4801897   10730.14      156580.930568\n",
       "2779475  185181.59       97683.545903\n",
       "784465   138902.42      147243.373052\n",
       "5635648   30468.30       53820.392423\n",
       "301298    14524.67        -590.618971\n",
       "...            ...                ...\n",
       "5288163   56143.31      181906.715187\n",
       "33468    995457.85      121582.699814\n",
       "3633581  155294.36      121311.901660\n",
       "244471   179258.40      302020.388731\n",
       "5254488    9433.14       70772.016926\n",
       "\n",
       "[5090096 rows x 2 columns]"
      ]
     },
     "execution_count": 48,
     "metadata": {},
     "output_type": "execute_result"
    }
   ],
   "source": [
    "f_com = pd.DataFrame({\"Actual\" : y_test, \"Machine_predicted\": y_pred})\n",
    "f_com"
   ]
  },
  {
   "cell_type": "code",
   "execution_count": 49,
   "id": "4f42154d",
   "metadata": {},
   "outputs": [
    {
     "data": {
      "text/plain": [
       "4801897    145850.790568\n",
       "2779475    -87498.044097\n",
       "784465       8340.953052\n",
       "5635648     23352.092423\n",
       "301298     -15115.288971\n",
       "               ...      \n",
       "5288163    125763.405187\n",
       "33468     -873875.150186\n",
       "3633581    -33982.458340\n",
       "244471     122761.988731\n",
       "5254488     61338.876926\n",
       "Name: amount, Length: 5090096, dtype: float64"
      ]
     },
     "execution_count": 49,
     "metadata": {},
     "output_type": "execute_result"
    }
   ],
   "source": [
    "Residue = y_pred - y_test\n",
    "Residue"
   ]
  },
  {
   "cell_type": "code",
   "execution_count": 50,
   "id": "d7c75afd",
   "metadata": {},
   "outputs": [],
   "source": [
    "com_g=f_com.head(23)"
   ]
  },
  {
   "cell_type": "code",
   "execution_count": 51,
   "id": "a5bbd3a9",
   "metadata": {},
   "outputs": [
    {
     "data": {
      "text/plain": [
       "<AxesSubplot:>"
      ]
     },
     "execution_count": 51,
     "metadata": {},
     "output_type": "execute_result"
    },
    {
     "data": {
      "image/png": "[encoded data removed]",
      "text/plain": [
       "<Figure size 1080x360 with 1 Axes>"
      ]
     },
     "metadata": {},
     "output_type": "display_data"
    }
   ],
   "source": [
    "com_g.plot(kind=\"bar\",figsize=(15,5))"
   ]
  },
  {
   "cell_type": "code",
   "execution_count": 52,
   "id": "f85682c3",
   "metadata": {},
   "outputs": [
    {
     "name": "stderr",
     "output_type": "stream",
     "text": [
      "C:\\Users\\DELL\\anaconda3\\lib\\site-packages\\seaborn\\distributions.py:2557: FutureWarning: `distplot` is a deprecated function and will be removed in a future version. Please adapt your code to use either `displot` (a figure-level function with similar flexibility) or `histplot` (an axes-level function for histograms).\n",
      "  warnings.warn(msg, FutureWarning)\n",
      "C:\\Users\\DELL\\anaconda3\\lib\\site-packages\\seaborn\\distributions.py:2557: FutureWarning: `distplot` is a deprecated function and will be removed in a future version. Please adapt your code to use either `displot` (a figure-level function with similar flexibility) or `histplot` (an axes-level function for histograms).\n",
      "  warnings.warn(msg, FutureWarning)\n"
     ]
    },
    {
     "data": {
      "text/plain": [
       "<matplotlib.legend.Legend at 0x16e2868c790>"
      ]
     },
     "execution_count": 52,
     "metadata": {},
     "output_type": "execute_result"
    },
    {
     "data": {
      "image/png": "[encoded data removed]",
      "text/plain": [
       "<Figure size 432x288 with 1 Axes>"
      ]
     },
     "metadata": {},
     "output_type": "display_data"
    }
   ],
   "source": [
    "sns.distplot(f_com[\"Actual\"])\n",
    "sns.distplot(f_com[\"Machine_predicted\"])\n",
    "plt.legend([\"Actual\",\"Machine_predicted\"])"
   ]
  },
  {
   "cell_type": "code",
   "execution_count": 53,
   "id": "0589557e",
   "metadata": {},
   "outputs": [
    {
     "data": {
      "text/plain": [
       "71734.63012836818"
      ]
     },
     "execution_count": 53,
     "metadata": {},
     "output_type": "execute_result"
    }
   ],
   "source": [
    "model.intercept_"
   ]
  },
  {
   "cell_type": "code",
   "execution_count": 54,
   "id": "37f4eb42",
   "metadata": {},
   "outputs": [
    {
     "data": {
      "text/plain": [
       "array([ 7.58456787e+01,  2.06904468e+04, -2.94674249e-04, -2.25981076e-01,\n",
       "        2.36339741e-01, -6.97230063e-02, -5.83749720e-01,  5.99418904e-01,\n",
       "        1.14392439e+06,  2.19995265e+06])"
      ]
     },
     "execution_count": 54,
     "metadata": {},
     "output_type": "execute_result"
    }
   ],
   "source": [
    "model.coef_"
   ]
  },
  {
   "cell_type": "code",
   "execution_count": 55,
   "id": "03db82af",
   "metadata": {},
   "outputs": [],
   "source": [
    "#Probability plot"
   ]
  },
  {
   "cell_type": "code",
   "execution_count": 56,
   "id": "8e008122",
   "metadata": {},
   "outputs": [
    {
     "data": {
      "text/plain": [
       "((array([-5.14163951, -4.97245955, -4.88127758, ...,  4.88127758,\n",
       "          4.97245955,  5.14163951]),\n",
       "  array([-36885374.94694283, -27963899.08652383, -26592644.65459904, ...,\n",
       "          36823378.67012025,  39342694.60615316,  39806498.5911709 ])),\n",
       " (166065.87938056455, -362.44141757205597, 0.538280254776317))"
      ]
     },
     "execution_count": 56,
     "metadata": {},
     "output_type": "execute_result"
    },
    {
     "data": {
      "image/png": "[encoded data removed]",
      "text/plain": [
       "<Figure size 432x288 with 1 Axes>"
      ]
     },
     "metadata": {},
     "output_type": "display_data"
    }
   ],
   "source": [
    "import scipy.stats as st\n",
    "st.probplot(Residue,dist=\"norm\",plot=plt)"
   ]
  },
  {
   "cell_type": "code",
   "execution_count": null,
   "id": "121ab9d8",
   "metadata": {},
   "outputs": [],
   "source": [
    "#Variance inflation factor (VIF) is a measure of the amount of multicollinearity in a set of multiple regression variables. "
   ]
  },
  {
   "cell_type": "code",
   "execution_count": 57,
   "id": "9c5fce73",
   "metadata": {},
   "outputs": [],
   "source": [
    "from statsmodels.stats.outliers_influence import variance_inflation_factor as vifm"
   ]
  },
  {
   "cell_type": "code",
   "execution_count": 58,
   "id": "01a150ef",
   "metadata": {},
   "outputs": [],
   "source": [
    "def calculate_vif(x):\n",
    "    vif=pd.DataFrame()\n",
    "    vif['features']=x.columns\n",
    "    vif['VIF_Values']=[vifm(x.values,i) for i in range(x.shape[1])]\n",
    "    return(vif)"
   ]
  },
  {
   "cell_type": "code",
   "execution_count": 60,
   "id": "d9cd1a35",
   "metadata": {},
   "outputs": [
    {
     "name": "stderr",
     "output_type": "stream",
     "text": [
      "C:\\Users\\DELL\\anaconda3\\lib\\site-packages\\statsmodels\\regression\\linear_model.py:1717: RuntimeWarning: invalid value encountered in double_scalars\n",
      "  return 1 - self.ssr/self.uncentered_tss\n"
     ]
    },
    {
     "data": {
      "text/html": [
       "<div>\n",
       "<style scoped>\n",
       "    .dataframe tbody tr th:only-of-type {\n",
       "        vertical-align: middle;\n",
       "    }\n",
       "\n",
       "    .dataframe tbody tr th {\n",
       "        vertical-align: top;\n",
       "    }\n",
       "\n",
       "    .dataframe thead th {\n",
       "        text-align: right;\n",
       "    }\n",
       "</style>\n",
       "<table border=\"1\" class=\"dataframe\">\n",
       "  <thead>\n",
       "    <tr style=\"text-align: right;\">\n",
       "      <th></th>\n",
       "      <th>features</th>\n",
       "      <th>VIF_Values</th>\n",
       "    </tr>\n",
       "  </thead>\n",
       "  <tbody>\n",
       "    <tr>\n",
       "      <th>0</th>\n",
       "      <td>step</td>\n",
       "      <td>2.784211</td>\n",
       "    </tr>\n",
       "    <tr>\n",
       "      <th>1</th>\n",
       "      <td>type</td>\n",
       "      <td>4.443385</td>\n",
       "    </tr>\n",
       "    <tr>\n",
       "      <th>2</th>\n",
       "      <td>amount</td>\n",
       "      <td>4.074919</td>\n",
       "    </tr>\n",
       "    <tr>\n",
       "      <th>3</th>\n",
       "      <td>nameOrig</td>\n",
       "      <td>2.758456</td>\n",
       "    </tr>\n",
       "    <tr>\n",
       "      <th>4</th>\n",
       "      <td>oldbalanceOrg</td>\n",
       "      <td>528.427213</td>\n",
       "    </tr>\n",
       "    <tr>\n",
       "      <th>5</th>\n",
       "      <td>newbalanceOrig</td>\n",
       "      <td>533.717430</td>\n",
       "    </tr>\n",
       "    <tr>\n",
       "      <th>6</th>\n",
       "      <td>nameDest</td>\n",
       "      <td>3.298204</td>\n",
       "    </tr>\n",
       "    <tr>\n",
       "      <th>7</th>\n",
       "      <td>oldbalanceDest</td>\n",
       "      <td>75.727684</td>\n",
       "    </tr>\n",
       "    <tr>\n",
       "      <th>8</th>\n",
       "      <td>newbalanceDest</td>\n",
       "      <td>87.012262</td>\n",
       "    </tr>\n",
       "    <tr>\n",
       "      <th>9</th>\n",
       "      <td>isFraud</td>\n",
       "      <td>1.211643</td>\n",
       "    </tr>\n",
       "    <tr>\n",
       "      <th>10</th>\n",
       "      <td>isFlaggedFraud</td>\n",
       "      <td>NaN</td>\n",
       "    </tr>\n",
       "  </tbody>\n",
       "</table>\n",
       "</div>"
      ],
      "text/plain": [
       "          features  VIF_Values\n",
       "0             step    2.784211\n",
       "1             type    4.443385\n",
       "2           amount    4.074919\n",
       "3         nameOrig    2.758456\n",
       "4    oldbalanceOrg  528.427213\n",
       "5   newbalanceOrig  533.717430\n",
       "6         nameDest    3.298204\n",
       "7   oldbalanceDest   75.727684\n",
       "8   newbalanceDest   87.012262\n",
       "9          isFraud    1.211643\n",
       "10  isFlaggedFraud         NaN"
      ]
     },
     "execution_count": 60,
     "metadata": {},
     "output_type": "execute_result"
    }
   ],
   "source": [
    "calculate_vif(mydata.sample(400000))"
   ]
  },
  {
   "cell_type": "code",
   "execution_count": 61,
   "id": "aebf9c8a",
   "metadata": {},
   "outputs": [],
   "source": [
    "#A high VIF indicates that the associated independent variable is highly collinear with the other variables in the model."
   ]
  },
  {
   "cell_type": "code",
   "execution_count": null,
   "id": "69ea5ecf",
   "metadata": {},
   "outputs": [],
   "source": [
    "#Conclusion"
   ]
  },
  {
   "cell_type": "raw",
   "id": "022a6b1e",
   "metadata": {},
   "source": [
    "#We can perform feature selection to identify the key factors that determine fraudulent customer."
   ]
  },
  {
   "cell_type": "raw",
   "id": "91dbb8a0",
   "metadata": {},
   "source": [
    "#Company can arrive at the accuracy score of different models and come to an conclusion."
   ]
  },
  {
   "cell_type": "markdown",
   "id": "5a18d4ef",
   "metadata": {},
   "source": [
    "#Can also perform PCA,reduce the dimension and based on the optimum value can arrive at a better conclusion."
   ]
  },
  {
   "cell_type": "code",
   "execution_count": null,
   "id": "a3548fee",
   "metadata": {},
   "outputs": [],
   "source": []
  }
 ],
 "metadata": {
  "kernelspec": {
   "display_name": "Python 3",
   "language": "python",
   "name": "python3"
  },
  "language_info": {
   "codemirror_mode": {
    "name": "ipython",
    "version": 3
   },
   "file_extension": ".py",
   "mimetype": "text/x-python",
   "name": "python",
   "nbconvert_exporter": "python",
   "pygments_lexer": "ipython3",
   "version": "3.8.8"
  }
 },
 "nbformat": 4,
 "nbformat_minor": 5
}
